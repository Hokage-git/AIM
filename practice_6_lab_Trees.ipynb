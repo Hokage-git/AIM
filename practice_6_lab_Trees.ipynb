{
 "cells": [
  {
   "cell_type": "code",
   "execution_count": 11,
   "metadata": {},
   "outputs": [],
   "source": [
    "import numpy as np\n",
    "import pandas as pd\n",
    "from sklearn.model_selection import train_test_split, GridSearchCV\n",
    "from sklearn.tree import DecisionTreeRegressor\n",
    "from sklearn.ensemble import BaggingRegressor, RandomForestRegressor\n",
    "from sklearn.metrics import mean_absolute_error\n",
    "import matplotlib.pyplot as plt\n",
    "\n",
    "# Для ускорения вычислений\n",
    "import warnings\n",
    "warnings.filterwarnings('ignore')\n"
   ]
  },
  {
   "cell_type": "code",
   "execution_count": 12,
   "metadata": {},
   "outputs": [],
   "source": [
    "def load_and_preprocess():\n",
    "    # Используем оптимизированное чтение CSV\n",
    "    train = pd.read_csv('./departure-delayed/train_features.csv', \n",
    "                       usecols=lambda x: x != 'Year')  # Сразу исключаем ненужную колонку\n",
    "    train = train.fillna(0)\n",
    "    \n",
    "    y = pd.read_csv('./departure-delayed/train_target.csv', \n",
    "                    index_col='id')\n",
    "    \n",
    "    real_columns = train.select_dtypes(exclude=['object']).columns.tolist()\n",
    "    \n",
    "    return train, y, real_columns\n",
    "\n",
    "train, y, real_columns = load_and_preprocess()\n"
   ]
  },
  {
   "cell_type": "code",
   "execution_count": 13,
   "metadata": {},
   "outputs": [],
   "source": [
    "def visual_clfs_mae(min_samples_leaf_values, mae_values, mae_train):\n",
    "    plt.figure(figsize=(10, 6))\n",
    "    plt.plot(min_samples_leaf_values, mae_train, 'r-o', label='Train')\n",
    "    plt.plot(min_samples_leaf_values, mae_values, 'b-o', label='Valid')\n",
    "    plt.title('MAE vs min_samples_leaf')\n",
    "    plt.legend()\n",
    "    plt.xlabel('min_samples_leaf')\n",
    "    plt.ylabel('Mean Absolute Error')\n",
    "    plt.grid(True)\n",
    "    plt.xscale('log')\n",
    "    plt.savefig('mae_plot.png')\n",
    "    plt.close()\n"
   ]
  },
  {
   "cell_type": "code",
   "execution_count": 14,
   "metadata": {},
   "outputs": [],
   "source": [
    "def train_clfs(train, y, real_columns, min_samples_leaf_values=[1,5,20,100,500,1000]):\n",
    "    # Используем numpy arrays вместо pandas для ускорения\n",
    "    X = train[real_columns].values\n",
    "    y_values = y.values\n",
    "    \n",
    "    x_train, x_val, y_train, y_val = train_test_split(\n",
    "        X, y_values, \n",
    "        train_size=0.8, \n",
    "        random_state=42\n",
    "    )\n",
    "    \n",
    "    mae_values = []\n",
    "    mae_train = []\n",
    "    \n",
    "    for leaf in min_samples_leaf_values:\n",
    "        model = DecisionTreeRegressor(\n",
    "            min_samples_leaf=leaf, \n",
    "            random_state=42\n",
    "        )\n",
    "        model.fit(x_train, y_train)\n",
    "        \n",
    "        # Векторизованные предсказания\n",
    "        mae_train.append(mean_absolute_error(y_train, model.predict(x_train)))\n",
    "        mae_values.append(mean_absolute_error(y_val, model.predict(x_val)))\n",
    "    \n",
    "    return mae_values, mae_train"
   ]
  },
  {
   "cell_type": "code",
   "execution_count": 15,
   "metadata": {},
   "outputs": [
    {
     "name": "stdout",
     "output_type": "stream",
     "text": [
      "Best model MAE: 33.02198247215921\n"
     ]
    }
   ],
   "source": [
    "# [3] Получение лучшей модели\n",
    "def get_optimized_model(train, y, real_columns, max_depth=21, min_samples_leaf=1000):\n",
    "    X = train[real_columns].values\n",
    "    y_values = y.values\n",
    "    \n",
    "    x_train, x_val, y_train, y_val = train_test_split(\n",
    "        X, y_values,\n",
    "        train_size=0.8, \n",
    "        random_state=42\n",
    "    )\n",
    "    \n",
    "    model = DecisionTreeRegressor(\n",
    "        max_depth=max_depth,\n",
    "        min_samples_leaf=min_samples_leaf,\n",
    "        random_state=42\n",
    "    )\n",
    "    model.fit(x_train, y_train)\n",
    "    \n",
    "    val_mae = mean_absolute_error(y_val, model.predict(x_val))\n",
    "    return x_train, x_val, y_train, y_val, model, val_mae\n",
    "\n",
    "# Получаем лучшую модель и данные\n",
    "x_train, x_val, y_train, y_val, best_model, mae = get_optimized_model(train, y, real_columns)\n",
    "print(f'Best model MAE: {mae}')"
   ]
  },
  {
   "cell_type": "code",
   "execution_count": 16,
   "metadata": {},
   "outputs": [
    {
     "name": "stdout",
     "output_type": "stream",
     "text": [
      "Fitting 3 folds for each of 8 candidates, totalling 24 fits\n",
      "Best Bagging parameters: {'max_features': 1.0, 'max_samples': 1.0, 'n_estimators': 8}\n",
      "Best Bagging MAE: 33.12221202879778\n"
     ]
    }
   ],
   "source": [
    "param_grid = {\n",
    "    'n_estimators': [4, 8],\n",
    "    'max_samples': [0.5, 1.0],\n",
    "    'max_features': [0.5, 1.0]\n",
    "}\n",
    "\n",
    "bagging_regressor = BaggingRegressor(\n",
    "    estimator=best_model, \n",
    "    random_state=42, \n",
    "    n_jobs=-1\n",
    ")\n",
    "\n",
    "grid_search = GridSearchCV(\n",
    "    bagging_regressor,\n",
    "    param_grid,\n",
    "    scoring='neg_mean_absolute_error',\n",
    "    cv=3,\n",
    "    n_jobs=-1,\n",
    "    verbose=1\n",
    ")\n",
    "\n",
    "# Используем numpy array для ускорения\n",
    "grid_search.fit(x_train, y_train.ravel())\n",
    "print(f'Best Bagging parameters: {grid_search.best_params_}')\n",
    "print(f'Best Bagging MAE: {-grid_search.best_score_}')\n"
   ]
  },
  {
   "cell_type": "code",
   "execution_count": 17,
   "metadata": {},
   "outputs": [
    {
     "name": "stdout",
     "output_type": "stream",
     "text": [
      "Fitting 3 folds for each of 4 candidates, totalling 12 fits\n"
     ]
    },
    {
     "name": "stderr",
     "output_type": "stream",
     "text": [
      "[Parallel(n_jobs=-1)]: Using backend ThreadingBackend with 16 concurrent workers.\n"
     ]
    },
    {
     "name": "stdout",
     "output_type": "stream",
     "text": [
      "Best RF parameters: {'max_depth': 8, 'max_features': 'sqrt', 'n_estimators': 8}\n",
      "Best RF MAE: 33.46334314311063\n"
     ]
    },
    {
     "name": "stderr",
     "output_type": "stream",
     "text": [
      "[Parallel(n_jobs=-1)]: Done   4 out of   8 | elapsed:    1.5s remaining:    1.5s\n",
      "[Parallel(n_jobs=-1)]: Done   8 out of   8 | elapsed:    1.5s finished\n"
     ]
    }
   ],
   "source": [
    "param_grid_rf = {\n",
    "    'n_estimators': [4, 8],\n",
    "    'max_depth': [6, 8],\n",
    "    'max_features': ['sqrt']\n",
    "}\n",
    "\n",
    "forest_regressor = RandomForestRegressor(\n",
    "    random_state=42,\n",
    "    n_jobs=-1,\n",
    "    verbose=1\n",
    ")\n",
    "\n",
    "grid_search_rf = GridSearchCV(\n",
    "    forest_regressor,\n",
    "    param_grid_rf,\n",
    "    scoring='neg_mean_absolute_error',\n",
    "    cv=3,\n",
    "    n_jobs=-1,\n",
    "    verbose=1\n",
    ")\n",
    "\n",
    "grid_search_rf.fit(x_train, y_train.ravel())\n",
    "print(f'Best RF parameters: {grid_search_rf.best_params_}')\n",
    "print(f'Best RF MAE: {-grid_search_rf.best_score_}')\n"
   ]
  }
 ],
 "metadata": {
  "kernelspec": {
   "display_name": "Python 3",
   "language": "python",
   "name": "python3"
  },
  "language_info": {
   "codemirror_mode": {
    "name": "ipython",
    "version": 3
   },
   "file_extension": ".py",
   "mimetype": "text/x-python",
   "name": "python",
   "nbconvert_exporter": "python",
   "pygments_lexer": "ipython3",
   "version": "3.12.6"
  }
 },
 "nbformat": 4,
 "nbformat_minor": 2
}
